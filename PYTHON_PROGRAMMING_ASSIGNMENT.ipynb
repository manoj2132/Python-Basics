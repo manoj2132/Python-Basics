{
  "nbformat": 4,
  "nbformat_minor": 0,
  "metadata": {
    "colab": {
      "provenance": []
    },
    "kernelspec": {
      "name": "python3",
      "display_name": "Python 3"
    },
    "language_info": {
      "name": "python"
    }
  },
  "cells": [
    {
      "cell_type": "markdown",
      "source": [
        "**Prime Numbers**\n"
      ],
      "metadata": {
        "id": "0SSp8fmIaPmu"
      }
    },
    {
      "cell_type": "code",
      "source": [
        "def is_prime(n):\n",
        "    if n <= 1:\n",
        "        return False\n",
        "\n",
        "    i = 2\n",
        "    while i * i <= n:\n",
        "        if n % i == 0:\n",
        "            return False\n",
        "        i += 1\n",
        "\n",
        "    return True\n",
        "\n",
        "number = int(input(\"Enter a number: \"))\n",
        "if is_prime(number):\n",
        "    print(f\"{number} is a prime number.\")\n",
        "else:\n",
        "    print(f\"{number} is not a prime number.\")\n"
      ],
      "metadata": {
        "colab": {
          "base_uri": "https://localhost:8080/"
        },
        "id": "eBbKDtKAaThG",
        "outputId": "aec4451c-2b7c-4d35-9807-803d840ecb6d"
      },
      "execution_count": 1,
      "outputs": [
        {
          "output_type": "stream",
          "name": "stdout",
          "text": [
            "Enter a number: 15\n",
            "15 is not a prime number.\n"
          ]
        }
      ]
    },
    {
      "cell_type": "markdown",
      "source": [
        "**Product of Random Numbers**"
      ],
      "metadata": {
        "id": "Ti7mNbIda-KC"
      }
    },
    {
      "cell_type": "code",
      "source": [
        "import random as rn\n",
        "\n",
        "num1 = rn.randint(1, 10)\n",
        "num2 = rn.randint(1, 10)\n",
        "\n",
        "correct_product = num1 * num2\n",
        "\n",
        "user_answer = int(input(f\"What is the product of {num1} and {num2}? \"))\n",
        "\n",
        "if user_answer == correct_product:\n",
        "    print(\"Correct! Well done!\")\n",
        "else:\n",
        "    print(f\"Incorrect. The correct answer is {correct_product}.\")\n"
      ],
      "metadata": {
        "colab": {
          "base_uri": "https://localhost:8080/"
        },
        "id": "aZKazosMa6Lm",
        "outputId": "2aff1dbe-2f59-4b98-d56a-94fcd64a39ec"
      },
      "execution_count": 2,
      "outputs": [
        {
          "output_type": "stream",
          "name": "stdout",
          "text": [
            "What is the product of 8 and 5? 37\n",
            "Incorrect. The correct answer is 40.\n"
          ]
        }
      ]
    },
    {
      "cell_type": "markdown",
      "source": [
        "**Squares of Even/Odd Numbers**"
      ],
      "metadata": {
        "id": "6dzbwuLYdtIh"
      }
    },
    {
      "cell_type": "code",
      "source": [
        "\n",
        "odd_squares = [i ** 2 for i in range(100, 201) if i % 2 != 0]\n",
        "\n",
        "for oddsquare in odd_squares:\n",
        "    print(oddsquare)"
      ],
      "metadata": {
        "colab": {
          "base_uri": "https://localhost:8080/"
        },
        "id": "LDWGGIKybtcM",
        "outputId": "a5856a44-88c2-421d-d1c0-60719a6066f0"
      },
      "execution_count": 3,
      "outputs": [
        {
          "output_type": "stream",
          "name": "stdout",
          "text": [
            "10201\n",
            "10609\n",
            "11025\n",
            "11449\n",
            "11881\n",
            "12321\n",
            "12769\n",
            "13225\n",
            "13689\n",
            "14161\n",
            "14641\n",
            "15129\n",
            "15625\n",
            "16129\n",
            "16641\n",
            "17161\n",
            "17689\n",
            "18225\n",
            "18769\n",
            "19321\n",
            "19881\n",
            "20449\n",
            "21025\n",
            "21609\n",
            "22201\n",
            "22801\n",
            "23409\n",
            "24025\n",
            "24649\n",
            "25281\n",
            "25921\n",
            "26569\n",
            "27225\n",
            "27889\n",
            "28561\n",
            "29241\n",
            "29929\n",
            "30625\n",
            "31329\n",
            "32041\n",
            "32761\n",
            "33489\n",
            "34225\n",
            "34969\n",
            "35721\n",
            "36481\n",
            "37249\n",
            "38025\n",
            "38809\n",
            "39601\n"
          ]
        }
      ]
    },
    {
      "cell_type": "markdown",
      "source": [
        "**Word counter**"
      ],
      "metadata": {
        "id": "U7pkB0sflg_9"
      }
    },
    {
      "cell_type": "code",
      "source": [
        "def count_word_frequencies(text):\n",
        "\n",
        "    words = text.split()#split the word based on whitespace\n",
        "\n",
        "    word_counts = {}#store of each word\n",
        "\n",
        "    for word in words:#count the frequency of each word.\n",
        "        word_counts[word] = word_counts.get(word, 0) + 1\n",
        "\n",
        "    for word, count in word_counts.items(): # Print the word and its count\n",
        "        print(f\"'{word}': {count}\")\n",
        "\n",
        "input_text = \"This is a sample text. This text will be used to demonstrate the word counter.\"\n",
        "\n",
        "count_word_frequencies(input_text)\n"
      ],
      "metadata": {
        "colab": {
          "base_uri": "https://localhost:8080/"
        },
        "id": "z9PqXk41iWTL",
        "outputId": "c31da625-6b9d-4f6f-e7a7-a6f1aed43f3e"
      },
      "execution_count": 4,
      "outputs": [
        {
          "output_type": "stream",
          "name": "stdout",
          "text": [
            "'This': 2\n",
            "'is': 1\n",
            "'a': 1\n",
            "'sample': 1\n",
            "'text.': 1\n",
            "'text': 1\n",
            "'will': 1\n",
            "'be': 1\n",
            "'used': 1\n",
            "'to': 1\n",
            "'demonstrate': 1\n",
            "'the': 1\n",
            "'word': 1\n",
            "'counter.': 1\n"
          ]
        }
      ]
    },
    {
      "cell_type": "markdown",
      "source": [
        "**Palindrome**"
      ],
      "metadata": {
        "id": "Ks-QdSKfn6LY"
      }
    },
    {
      "cell_type": "markdown",
      "source": [],
      "metadata": {
        "id": "ACpUl08hn6IO"
      }
    },
    {
      "cell_type": "code",
      "source": [
        "def is_palindrome(text):\n",
        "    # Convert the text to lowercase and remove spaces\n",
        "    cleaned_text = text.replace(\" \", \"\").lower()\n",
        "\n",
        "    # Check if the cleaned text is equal to its reverse\n",
        "    return cleaned_text == cleaned_text[::-1]\n",
        "\n",
        "# Get input from the user\n",
        "input_text = input(\"Enter a text: \")\n",
        "\n",
        "# Check if the input text is a palindrome and print True or False\n",
        "print(is_palindrome(input_text))"
      ],
      "metadata": {
        "colab": {
          "base_uri": "https://localhost:8080/"
        },
        "id": "-V44fdefngS6",
        "outputId": "1cdb7f39-dcf5-475d-92a1-d92baef499a3"
      },
      "execution_count": 5,
      "outputs": [
        {
          "output_type": "stream",
          "name": "stdout",
          "text": [
            "Enter a text: 151\n",
            "True\n"
          ]
        }
      ]
    },
    {
      "cell_type": "code",
      "source": [],
      "metadata": {
        "id": "FkVKnC3joFaQ"
      },
      "execution_count": 5,
      "outputs": []
    }
  ]
}